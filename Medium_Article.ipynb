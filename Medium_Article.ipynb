{
 "cells": [
  {
   "cell_type": "markdown",
   "id": "416212b0",
   "metadata": {},
   "source": [
    "# Stock Prediction"
   ]
  },
  {
   "cell_type": "markdown",
   "id": "d3a6dd68",
   "metadata": {},
   "source": [
    "A classic time-series analysis problem in the financial world is stock predicition. Stock prediction using machine learning methods is a highly complex field where banks and hedge funds use any way possible to get an advantage over the competitor. This typically involves collecting unique proprietary data to enlist machine and deep learning methods and receive advantageous insight into the trajectory of a stock. I chose to tackle the simplest form of this problem to deepen my understanding of the machine learning engineering life cycle. \n",
    "\n",
    "I am taking historical S&P 500 stock data from Financial Modeling Prep and analyzing 'Close' prices daily. I have created a web application that will predict a variable amount of next stock prices as directed by the end user. Below are the steps I took to get there.\n"
   ]
  },
  {
   "cell_type": "markdown",
   "id": "6b68fd1e",
   "metadata": {},
   "source": [
    "## Data Exploration"
   ]
  },
  {
   "cell_type": "markdown",
   "id": "f6b0d742",
   "metadata": {},
   "source": [
    "Although exploring data is often not the most exciting step within the MLE lifecycle, it is very helpful in gaining insights and ideas to possible techniques and methods that can be used to discover invaluable insight. To explore this data I examined various tables of data that I manipulated and also expressed my data visually through various graphs. This step helped me better understand the data and sparked ideas to my next steps in creating a machine learning model."
   ]
  },
  {
   "cell_type": "markdown",
   "id": "3ecc95c9",
   "metadata": {},
   "source": [
    "## Selecting and tuning a Model"
   ]
  },
  {
   "cell_type": "markdown",
   "id": "2a16d9f8",
   "metadata": {},
   "source": [
    "I tested out a few models in my attempt to select the most optimal model. I looked at Linear Regression, Random Forest, and Long Short-Term Memory(LSTM) Neural Networks. I concluded that LSTM was my best route after some basic testing.\n",
    "\n",
    "LSTM is a form of Recurrent Neural Networks that utilizes memory cells, input gate, forget gate, and an output gate to make effective sequential predictions. It's key feature is it's ability to store and retrieve information over long sequences, allowing it to learn and remember information for an extended period of time. This makes it very useful for time series analysis.\n",
    "\n",
    "My next mission was to tune the hyperparamaters for my model. I initially used GridSearchCV to test but that process took too many iterations and thus was very time expensive. After doing more research, I decided to implement Bayesian Optimization to conduct my hyperparamater tuning. Bayesian Optimization is often used on sequential black box functions and is especially effective when more traditional optimization techniques are extremely time consuming. Bayesian optimization uses a surrogate model and an acquisition function to efficiently search for the optimal values of a black-box function. It balances exploration and exploitation to iteratively explore the input space and narrow down the search towards the global optimum with a minimal number of function evaluations.Implementing this technique saves significant amount of time when it comes to training and implementing a deep learning model."
   ]
  },
  {
   "cell_type": "markdown",
   "id": "dd34c930",
   "metadata": {},
   "source": [
    "## Flask + Running Locally"
   ]
  },
  {
   "cell_type": "markdown",
   "id": "41008af4",
   "metadata": {},
   "source": [
    "I then searched for a web framework that fit my deployment needs. After condsidering a few options, I chose to go forward with Flask. Flask is a lightweight and flexible web framework for Python, it offers customization while also being very easy to use. It can be effective in a small app like I am creating, but also can scale if I want to grow this into a larger project in the future. After creating my flask app and being able to send and receive json with the info I want to use, I added in HTML and CSS to give this web application a very basic front-end. As this project's focus is on the machine learning engineering, I capped my front-end effort at a minimal to emphasize the back-end."
   ]
  },
  {
   "cell_type": "markdown",
   "id": "7aeb2453",
   "metadata": {},
   "source": [
    "## Docker"
   ]
  },
  {
   "cell_type": "markdown",
   "id": "62bb17df",
   "metadata": {},
   "source": [
    "After succesfully running my app locally, I needed to containerize it so it could be run on any computer in any environment. For this, I chose to use Docker. Docker is a powerful containerization platform that packages and runs applications consistently across different environments, making it easier to deploy and manage software. The benefits of Docker include improved portability, resource efficiency, isolation, and simplified deployment. To utilize Docker, the creation of a 'requriements.txt' file and a 'Dockerfile' is needed. The 'requriements.txt' is a list of the dependencies used in your environment. The 'Dockerfile' is a set of instructions needed to be carried out to build the Docker Image. Once these files are added, it is crucial to build and run the Docker container to confirm that this will work on the Local Host."
   ]
  },
  {
   "cell_type": "markdown",
   "id": "29809fd2",
   "metadata": {},
   "source": [
    "## Deploy to Heroku and Optimize"
   ]
  },
  {
   "cell_type": "markdown",
   "id": "39684e81",
   "metadata": {},
   "source": [
    "The final step of creating an MLE web app is to deploy. I chose Heroku because of its ease of use and scalability. It is also a cheaper option that is great for pet projects. After creating an account, I used the Heroku Command Line Interface to push my code to Heroku. Once deployed I can go directly to my application and open the web page. \n",
    "\n",
    "I also used Heroku to implement two other add-ons. First was a Postgres SQL Database. I want to take the data from the API and add it to a table in the Postgres Database. I also created another table that helps calculate the error between my model's prediction and what the true value is for the S&P 500. Adding in a database gives me the ability to capture data and add it into my application in the future.\n",
    "\n",
    "The other add-on was the Heroku Scheduler. I scheduled a daily script to run to add the closing S&P 500 price for the day, Calculate my prediction error, and retrain my model based on the new data. This process is very seamless using the Heroku Scheduler and helps the maintenance of this MLE application."
   ]
  },
  {
   "cell_type": "markdown",
   "id": "c36296db",
   "metadata": {},
   "source": [
    "# Conclusion"
   ]
  },
  {
   "cell_type": "markdown",
   "id": "0bef7643",
   "metadata": {},
   "source": [
    "This was a very exciting project where I learned and implemented multiple techniques that were new to me and was able to deploy my first full stack machine learning application.\n",
    "\n",
    "Reflecting back on this project I think about several things. The first is the difficulty of scope creep. As much of this was new to me, I desired to explore many methods and options. It is good to want to learn and explore but every project needs an end date. Initially I imagined a beautiful interactive front-end to this application but realized that is not my goal of this project. There is another time or place to implement this. I also learned the value of foresight within a complicated app ecosystem. Being able to do the planning and modeling ahead of time gives a strong roadmap to be used to tackle each section of the MLE application. Lastly is understanding the depth of every portion of an MLE application. There are a lot of 'moving parts' and creating powerful unit tests can be very effective in saving headaches. Although I did implement a couple basic unit tests, this was a new skill for me that I would like to dive deeper into.\n",
    "\n",
    "I am very pleased that I was able to create this basic stock prediction application. Here is my Github repository if you would like to examine how I created this in greater detail. Please reach out to me on LinkendIn if you have any questions or suggestions."
   ]
  },
  {
   "cell_type": "code",
   "execution_count": null,
   "id": "8a7e1a52",
   "metadata": {},
   "outputs": [],
   "source": []
  }
 ],
 "metadata": {
  "kernelspec": {
   "display_name": "Python 3 (ipykernel)",
   "language": "python",
   "name": "python3"
  },
  "language_info": {
   "codemirror_mode": {
    "name": "ipython",
    "version": 3
   },
   "file_extension": ".py",
   "mimetype": "text/x-python",
   "name": "python",
   "nbconvert_exporter": "python",
   "pygments_lexer": "ipython3",
   "version": "3.10.6"
  }
 },
 "nbformat": 4,
 "nbformat_minor": 5
}
